{
 "cells": [
  {
   "attachments": {},
   "cell_type": "markdown",
   "metadata": {},
   "source": [
    "# Chaînes de Markov : propagation d’une épidémie dans une population\n",
    "Groupe 3\n",
    "\n",
    "**Haya MAMLOUK** - 21107689\n",
    "\n",
    "**Maeva RAMAHATAFANDRY** - 21104443\n"
   ]
  },
  {
   "attachments": {},
   "cell_type": "markdown",
   "metadata": {},
   "source": [
    "### 1. Description du premier modèle\n",
    "\n",
    "1. Dans le cadre de ce modèle épidémique, il y'a 3 états: Sain (S), Infecté (I) et Guéri (R). Le vecteur de probabilité initiale est de taille 3 représentant chaque état au temps 0. La matrice de transition est de taille 3 x 3: on peut rentrer selon 3 états (S, I , R) et sortir selon 3 états. \n",
    "2. pi0 : vecteur de probabilité initiale:\n",
    "```\n",
    "    pi0 = [0.9, 0.1, 0.0]\n",
    "```"
   ]
  },
  {
   "cell_type": "code",
   "execution_count": null,
   "metadata": {},
   "outputs": [],
   "source": [
    "import numpy as np\n",
    "import random\n",
    "import matplotlib"
   ]
  }
 ],
 "metadata": {
  "language_info": {
   "name": "python"
  }
 },
 "nbformat": 4,
 "nbformat_minor": 2
}
