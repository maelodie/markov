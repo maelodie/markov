{
 "cells": [
  {
   "attachments": {},
   "cell_type": "markdown",
   "metadata": {},
   "source": [
    "# Chaînes de Markov : propagation d’une épidémie dans une population\n",
    "Groupe 3\n",
    "\n",
    "**Haya MAMLOUK** - 21107689\n",
    "\n",
    "**Maeva RAMAHATAFANDRY** - 21104443\n"
   ]
  },
  {
   "cell_type": "code",
   "execution_count": null,
   "metadata": {},
   "outputs": [],
   "source": [
    "import numpy as np\n",
    "import random\n",
    "import matplotlib"
   ]
  }
 ],
 "metadata": {
  "language_info": {
   "name": "python"
  }
 },
 "nbformat": 4,
 "nbformat_minor": 2
}
