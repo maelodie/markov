{
 "cells": [
  {
   "attachments": {},
   "cell_type": "markdown",
   "metadata": {},
   "source": [
    "# Chaînes de Markov : propagation d’une épidémie dans une population\n",
    "Groupe 3\n",
    "\n",
    "**Haya MAMLOUK** - 21107689\n",
    "\n",
    "**Maeva RAMAHATAFANDRY** - 21104443\n"
   ]
  },
  {
   "attachments": {},
   "cell_type": "markdown",
   "metadata": {},
   "source": [
    "### 1. Description du premier modèle\n",
    "\n",
    "1. Dans le cadre de ce modèle épidémique, il y'a 3 états: Sain (S), Infecté (I) et Guéri (R). Le vecteur de probabilité initiale est de taille 3 représentant chaque état au temps 0. La matrice de transition est de taille 3 x 3: on peut rentrer selon 3 états (S, I , R) et sortir selon 3 états. \n",
    "\n",
    "2. pi0 : vecteur de probabilité initiale:\n",
    "```\n",
    "    pi0 = [0.9, 0.1, 0.0]\n",
    "```\n",
    "3. Matrice de transition 1 contenant les probabilités de transition entre les différentes états:\n",
    "```\n",
    "    A = numpy.array([\n",
    "        [0.92, 0.08, 0], \n",
    "        [0.0, 0.93, 0.07], \n",
    "        [0, 0, 1]\n",
    "    ])\n",
    "```\n",
    "\n"
   ]
  },
  {
   "cell_type": "code",
   "execution_count": 11,
   "metadata": {},
   "outputs": [],
   "source": [
    "import numpy as np\n",
    "import random\n",
    "import matplotlib"
   ]
  },
  {
   "cell_type": "code",
   "execution_count": 12,
   "metadata": {},
   "outputs": [
    {
     "name": "stdout",
     "output_type": "stream",
     "text": [
      "True\n"
     ]
    }
   ],
   "source": [
    "def est_stochastique(A):\n",
    "    \"\"\"\n",
    "    Cette fonction renvoie 1 si A est une matrice stochastique (matrice carrée et la somme des éléments d'une ligne  = 1) et 0 sinon\n",
    "\n",
    "    Paramètres: \n",
    "    ------------\n",
    "    A : np.array\n",
    "    Matrice à vérifier\n",
    "\n",
    "    Returns:\n",
    "    ------------\n",
    "    boolean\n",
    "\n",
    "    \"\"\"\n",
    "    sum : int = 0\n",
    "    if A.shape[0] == A.shape[1]: \n",
    "        for i in A: #i = valeur ligne, j = valeur colonne\n",
    "            for j in i:\n",
    "                sum += j\n",
    "            if sum != 1:\n",
    "                return False\n",
    "            else :\n",
    "                sum = 0\n",
    "        return True\n",
    "    return False\n",
    "\n",
    "A = np.array([\n",
    "        [0.92, 0.08, 0], \n",
    "        [0.0, 0.93, 0.07], \n",
    "        [0, 0, 1]\n",
    "    ])\n",
    "\n",
    "print(est_stochastique(A))\n"
   ]
  },
  {
   "attachments": {},
   "cell_type": "markdown",
   "metadata": {},
   "source": [
    "### 1.1 Distribution théorique\n",
    "\n",
    "1. t = 1\n",
    "\n",
    "    La probabilité pour un individu d'être **sain** au temps t = 1 est:\n",
    "\n",
    "    >    P(S_1) = P(S_1 | S_0) x P(S_0) = 0.9 x 0.92 = **0.828** \n",
    "\n",
    "\n",
    "    La probabilité pour un individu d'être **infecté** au temps t = 1 est: \n",
    "\n",
    "    >   P(I_1) = P(I_1| S_0) x P(S_0) + P(I_1 | I_0) x P(I_0) = 0.08 x 0.9 + 0.93 x 0.1  = 0.072 + 0.093 = **0.165**\n",
    "\n",
    "\n",
    "    La probabilité pour un individu d'être **guéri** au temps = 1 est:\n",
    "    \n",
    "    >   P(R_1) = P(R_1 | I_0) x P(I_0) = 0.07 x 0.1 = **0.007**\n",
    "\n",
    "2. t = 2 \n",
    "\n",
    "    La probabilité pour un individu d'être **sain** au temps t = 2 est:\n",
    "\n",
    "    >   P(S_2) = P(S_2 | S_1) x P(S_1) =  0.92 x 0.828 = **0.762**\n",
    "\n",
    "\n",
    "    La probabilité pour un individu d'être **infecté** au temps t = 2 est: \n",
    "\n",
    "    >   P(I_2) = P(I_2| S_1) x P(S_1) + P(I_2 | I_1) x P(I_1) = 0.08 * 0.828 + 0.93 * 0.165 = 0.06624 + 0.15345 = **0.21969**\n",
    "\n",
    "\n",
    "    La probabilité pour un individu d'être **guéri** au temps = 1 est:\n",
    "    \n",
    "    >   P(R_2) = P(R_2| I_1) x P(I_1) + P(R_2 | R_1) * P(R_1) = 0.07 * 0.165 + 0.007 * 1 = **0.01855**\n"
   ]
  },
  {
   "cell_type": "code",
   "execution_count": null,
   "metadata": {},
   "outputs": [],
   "source": [
    "#q3\n",
    "def distribution(A, vect_init):\n",
    "    dict_pi = { 0 : vect_init}\n",
    "\n",
    "    for i in range(1, 201): \n",
    "        "
   ]
  }
 ],
 "metadata": {
  "kernelspec": {
   "display_name": "Python 3",
   "language": "python",
   "name": "python3"
  },
  "language_info": {
   "codemirror_mode": {
    "name": "ipython",
    "version": 3
   },
   "file_extension": ".py",
   "mimetype": "text/x-python",
   "name": "python",
   "nbconvert_exporter": "python",
   "pygments_lexer": "ipython3",
   "version": "3.11.6"
  }
 },
 "nbformat": 4,
 "nbformat_minor": 2
}
